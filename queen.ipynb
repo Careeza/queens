{
 "cells": [
  {
   "cell_type": "code",
   "execution_count": null,
   "metadata": {},
   "outputs": [],
   "source": [
    "import numpy as np\n",
    "import matplotlib.pyplot as plt\n",
    "import random"
   ]
  },
  {
   "cell_type": "code",
   "execution_count": null,
   "metadata": {},
   "outputs": [],
   "source": [
    "def is_valid(line):\n",
    "\t# all element in line should be unique\n",
    "\tif len(set(line)) != len(line):\n",
    "\t\treturn False\n",
    "\tfor i in range(len(line) - 1):\n",
    "\t\tif abs(line[i] - line[i + 1]) == 1:\n",
    "\t\t\treturn False\n",
    "\treturn True\n"
   ]
  },
  {
   "cell_type": "code",
   "execution_count": null,
   "metadata": {},
   "outputs": [],
   "source": [
    "def solve(lines, line, i):\n",
    "\tif i == len(line):\n",
    "\t\tif is_valid(line):\n",
    "\t\t\tlines.append(line.copy())\n",
    "\t\treturn\n",
    "\tfor j in range(0, len(line)):\n",
    "\t\tline[i] = j\n",
    "\t\tsolve(lines, line.copy(), i + 1)"
   ]
  },
  {
   "cell_type": "code",
   "execution_count": null,
   "metadata": {},
   "outputs": [],
   "source": [
    "def solve_all(n):\n",
    "\ttry:\n",
    "\t\twith open(f'solution_{n}.txt', 'r') as f:\n",
    "\t\t\treturn [[int(x) for x in line.strip().split(',')] for line in f]\n",
    "\texcept FileNotFoundError:\n",
    "\t\tpass\n",
    "\tlines = []\n",
    "\tline = np.array([0] * n)\n",
    "\tsolve(lines, line, 0)\n",
    "\twith open(f'solution_{n}.txt', 'w') as f:\n",
    "\t\tfor line in lines:\n",
    "\t\t\tf.write(','.join([str(x) for x in line]) + '\\n')\n",
    "\treturn lines\n"
   ]
  },
  {
   "cell_type": "code",
   "execution_count": null,
   "metadata": {},
   "outputs": [],
   "source": [
    "def is_paved(dic, n):\n",
    "\t# if the sum of the len of all list = n^2\n",
    "\treturn sum([len(dic[x]) for x in dic]) == n * n"
   ]
  },
  {
   "cell_type": "code",
   "execution_count": null,
   "metadata": {},
   "outputs": [],
   "source": [
    "def neighbors(paving, cell):\n",
    "\tx, y = cell\n",
    "\tn = len(paving)\n",
    "\tneighbors = []\n",
    "\toffsets = [(-1, 0), (1, 0), (0, -1), (0, 1)]\n",
    "\tfor dx, dy in offsets:\n",
    "\t\tif 0 <= x + dx < n and 0 <= y + dy < n:\n",
    "\t\t\tif paving[x + dx][y + dy] == 0:\n",
    "\t\t\t\tneighbors.append((x + dx, y + dy))\n",
    "\treturn neighbors"
   ]
  },
  {
   "cell_type": "code",
   "execution_count": null,
   "metadata": {},
   "outputs": [],
   "source": [
    "def solution_valid_for_paving(paving, solution):\n",
    "\tqueens_color = [paving[queen_x, queen_y] for queen_x, queen_y in enumerate(solution)]\n",
    "\tif len(set(queens_color)) != len(queens_color):\n",
    "\t\treturn False\n",
    "\treturn True"
   ]
  },
  {
   "cell_type": "code",
   "execution_count": null,
   "metadata": {},
   "outputs": [],
   "source": [
    "def is_unique(paving, solutions):\n",
    "\tsol = 0\n",
    "\tfor solution in solutions:\n",
    "\t\tif solution_valid_for_paving(paving, solution):\n",
    "\t\t\tsol += 1\n",
    "\tprint(sol)\n",
    "\treturn sol == 1"
   ]
  },
  {
   "cell_type": "code",
   "execution_count": null,
   "metadata": {},
   "outputs": [],
   "source": [
    "def paving_gen(n):\n",
    "\tpaving = np.zeros((n, n))\n",
    "\tsolutions = solve_all(n)\n",
    "\tsolution = random.choice(solutions)\n",
    "\twhile not is_unique(paving, solutions):\n",
    "\t\tpaving = np.zeros((n, n))\n",
    "\t\tdic = {i: [(i, j)] for i, j in enumerate(solution)}\n",
    "\t\tfor queen, cell in dic.items():\n",
    "\t\t\tcell = cell[0]\n",
    "\t\t\tpaving[cell[0], cell[1]] = queen + 1\n",
    "\t\twhile not is_paved(dic, n):\n",
    "\t\t\tqueen = random.choice(list(dic.keys()))\n",
    "\t\t\tcell = random.choice(dic[queen])\n",
    "\t\t\tneighbors_list = neighbors(paving, cell)\n",
    "\t\t\tif len(neighbors_list) == 0:\n",
    "\t\t\t\tcontinue\n",
    "\t\t\tneighbor = random.choice(neighbors_list)\n",
    "\t\t\tpaving[neighbor[0], neighbor[1]] = queen + 1\n",
    "\t\t\tdic[queen].append(neighbor)\n",
    "\treturn paving"
   ]
  },
  {
   "cell_type": "code",
   "execution_count": null,
   "metadata": {},
   "outputs": [],
   "source": [
    "def paving_gen_hard(n):\n",
    "\tpaving = np.zeros((n, n))\n",
    "\tsolutions = solve_all(n)\n",
    "\tsolution = random.choice(solutions)\n",
    "\tcell_placed = 0\n",
    "\tpaving = np.ones((n, n))\n",
    "\tdic = {i: [(i, j)] for i, j in enumerate(solution)}\n",
    "\tfor queen, cell in dic.items():\n",
    "\t\tcell = cell[0]\n",
    "\t\tpaving[cell[0], cell[1]] = queen + 1\n",
    "\twhile cell_placed < n**2 / 2:\n",
    "\t\tqueen = random.choice(list(dic.keys()))\n",
    "\t\tcell = random.choice(dic[queen])\n",
    "\t\tneighbors_list = neighbors(paving, cell)\n",
    "\t\tif len(neighbors_list) == 0:\n",
    "\t\t\tcontinue\n",
    "\t\tneighbor = random.choice(neighbors_list)\n",
    "\t\tpaving[neighbor[0], neighbor[1]] = queen + 1\n",
    "\t\tdic[queen].append(neighbor)\n",
    "\treturn paving"
   ]
  },
  {
   "cell_type": "code",
   "execution_count": null,
   "metadata": {},
   "outputs": [],
   "source": [
    "n = 5\n",
    "solutions = solve_all(n)\n",
    "# 0,2,4,1,3\n",
    "paving = np.array([\n",
    "\t[1, 1, 1, 1, 1],\n",
    "\t[1, 1, 2, 1, 1],\n",
    "\t[1, 1, 1, 1, 3],\n",
    "\t[1, 4, 1, 1, 1],\n",
    "\t[1, 1, 1, 5, 1],\n",
    "])\n",
    "print(is_unique(paving, solutions))"
   ]
  },
  {
   "cell_type": "code",
   "execution_count": null,
   "metadata": {},
   "outputs": [],
   "source": [
    "paving_gen(n)"
   ]
  },
  {
   "cell_type": "code",
   "execution_count": null,
   "metadata": {},
   "outputs": [],
   "source": [
    "# plot the paving of a grid of n x n\n",
    "# the value goes from 1 to n\n",
    "\n",
    "def plot_paving(paving):\n",
    "\tn = len(paving)\n",
    "\tfig, ax = plt.subplots(figsize=(n, n))\n",
    "\tax.set_xticks(np.arange(0, n))\n",
    "\tax.set_yticks(np.arange(0, n))\n",
    "\tax.set_xticks(np.arange(-.5, n, 1), minor=True)\n",
    "\tax.set_yticks(np.arange(-.5, n, 1), minor=True)\n",
    "\t# use a colormap that have a very different color for each value\n",
    "\tcm = plt.get_cmap(\"tab20_r\")\n",
    "\tim = ax.imshow(paving, aspect=\"auto\", cmap=cm, origin=\"lower\")\n",
    "\tax.grid(which='minor', color='w', linestyle='-', linewidth=2)\n",
    "\t# delete axis\n",
    "\tax.set_xticks([])\n",
    "\tax.set_yticks([])\n",
    "\tplt.show()\n"
   ]
  },
  {
   "cell_type": "code",
   "execution_count": null,
   "metadata": {},
   "outputs": [],
   "source": [
    "plot_paving(paving_gen(8))"
   ]
  },
  {
   "cell_type": "code",
   "execution_count": null,
   "metadata": {},
   "outputs": [],
   "source": [
    "from matplotlib import colormaps\n",
    "\n",
    "list(colormaps)\n"
   ]
  },
  {
   "cell_type": "code",
   "execution_count": null,
   "metadata": {},
   "outputs": [],
   "source": []
  }
 ],
 "metadata": {
  "kernelspec": {
   "display_name": "pulse",
   "language": "python",
   "name": "python3"
  },
  "language_info": {
   "codemirror_mode": {
    "name": "ipython",
    "version": 3
   },
   "file_extension": ".py",
   "mimetype": "text/x-python",
   "name": "python",
   "nbconvert_exporter": "python",
   "pygments_lexer": "ipython3",
   "version": "3.8.18"
  }
 },
 "nbformat": 4,
 "nbformat_minor": 2
}
