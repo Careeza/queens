{
 "cells": [
  {
   "cell_type": "code",
   "execution_count": 1,
   "metadata": {},
   "outputs": [],
   "source": [
    "import cv2\n",
    "import numpy as np\n",
    "from collections import defaultdict\n",
    "import matplotlib.pyplot as plt\n",
    "from matplotlib.offsetbox import OffsetImage, AnnotationBbox\n",
    "import matplotlib.image as mpimg\n",
    "from matplotlib.colors import ListedColormap\n",
    "from AppKit import NSPasteboard, NSPasteboardTypePNG\n",
    "from PIL import Image\n",
    "import io"
   ]
  },
  {
   "cell_type": "code",
   "execution_count": 2,
   "metadata": {},
   "outputs": [],
   "source": [
    "def plot_paving(paving, title=None):\n",
    "\tn = len(paving)\n",
    "\tfig, ax = plt.subplots(figsize=(n, n))\n",
    "\tax.set_xticks(np.arange(0, n))\n",
    "\tax.set_yticks(np.arange(0, n))\n",
    "\tax.set_xticks(np.arange(-.5, n, 1), minor=True)\n",
    "\tax.set_yticks(np.arange(-.5, n, 1), minor=True)\n",
    "\t# use a colormap that have a very different color for each value\n",
    "\tcm = plt.get_cmap(\"tab20_r\")\n",
    "\tim = ax.imshow(paving, aspect=\"auto\", cmap=cm, origin=\"lower\")\n",
    "\tax.grid(which='minor', color='w', linestyle='-', linewidth=2)\n",
    "\t# delete axis\n",
    "\tax.set_xticks([])\n",
    "\tax.set_yticks([])\n",
    "\t# reverse the y axis\n",
    "\tax.invert_yaxis()\n",
    "\tif title:\n",
    "\t\tax.set_title(title)\n",
    "\tfig.tight_layout()\n",
    "\tplt.show()"
   ]
  },
  {
   "cell_type": "code",
   "execution_count": 25,
   "metadata": {},
   "outputs": [],
   "source": [
    "def plot_solution(paving, solution, colors):\n",
    "\tnormalized_colors = [(r / 255, g / 255, b / 255) for b, g, r in colors]\n",
    "\tcmap = ListedColormap(normalized_colors)\n",
    "\n",
    "\tn = len(paving)\n",
    "\tfig, ax = plt.subplots(figsize=(5, 5))\n",
    "\tax.set_xticks(np.arange(0, n))\n",
    "\tax.set_yticks(np.arange(0, n))\n",
    "\tax.set_xticks(np.arange(-.5, n, 1), minor=True)\n",
    "\tax.set_yticks(np.arange(-.5, n, 1), minor=True)\n",
    "\t\n",
    "\tim = ax.imshow(paving, aspect=\"auto\", cmap=cmap, origin=\"lower\")\n",
    "\t\n",
    "\tax.grid(which='minor', color='w', linestyle='-', linewidth=2)\n",
    "\t\n",
    "\tax.set_xticks([])\n",
    "\tax.set_yticks([])\n",
    "\tax.invert_yaxis()\n",
    "\t\n",
    "\tqueen_img = mpimg.imread(\"queen.png\")  # Load the queen image\n",
    "\tfor row, col in enumerate(solution):  # solution[row] gives the column for the queen in that row\n",
    "\t\timagebox = OffsetImage(queen_img, zoom=0.035)  # Adjust zoom if needed\n",
    "\t\tab = AnnotationBbox(imagebox, (col, row), frameon=False)  # Position at (col, row)\n",
    "\t\tax.add_artist(ab)\n",
    "\t\n",
    "\tfig.tight_layout()\n",
    "\tplt.show()"
   ]
  },
  {
   "cell_type": "code",
   "execution_count": 26,
   "metadata": {},
   "outputs": [],
   "source": [
    "def solution_valid_for_paving(paving, solution):\n",
    "\tqueens_color = [paving[queen_x, queen_y] for queen_x, queen_y in enumerate(solution)]\n",
    "\tif len(set(queens_color)) != len(queens_color):\n",
    "\t\treturn False\n",
    "\treturn True"
   ]
  },
  {
   "cell_type": "code",
   "execution_count": 27,
   "metadata": {},
   "outputs": [],
   "source": [
    "def solve(n, paving):\n",
    "\ttry:\n",
    "\t\twith open(f'solution_{n}.txt', 'r') as f:\n",
    "\t\t\tsolutions = [[int(x) for x in line.strip().split(',')] for line in f]\n",
    "\texcept FileNotFoundError:\n",
    "\t\tprint(f\"Solutions for {n}x{n} not found\")\n",
    "\t\treturn 0\n",
    "\tnb_solutions = 0\n",
    "\tsolutions_queen = []\n",
    "\tfor solution in solutions:\n",
    "\t\tif solution_valid_for_paving(paving, solution):\n",
    "\t\t\tnb_solutions += 1\n",
    "\t\t\tsolutions_queen.append(solution)\n",
    "\tif nb_solutions == 0:\n",
    "\t\tprint(f\"No valid solution found for {n}x{n}\")\n",
    "\t\treturn 0\n",
    "\tprint(f\"Found {nb_solutions} valid solutions for {n}x{n}\")\n",
    "\treturn solutions_queen"
   ]
  },
  {
   "cell_type": "code",
   "execution_count": 28,
   "metadata": {},
   "outputs": [],
   "source": [
    "def load_image_from_clipboard():\n",
    "\tpb = NSPasteboard.generalPasteboard()\n",
    "\tdata = pb.dataForType_(NSPasteboardTypePNG)\n",
    "\tif not data:\n",
    "\t\tprint(\"No image found in clipboard.\")\n",
    "\t\treturn None\n",
    "\timage_data = data.bytes()\n",
    "\tbyte_array = bytearray(image_data)\n",
    "\timage = Image.open(io.BytesIO(byte_array))\n",
    "\topencv_image = cv2.cvtColor(np.array(image), cv2.COLOR_RGB2BGR)\n",
    "\treturn opencv_image"
   ]
  },
  {
   "cell_type": "code",
   "execution_count": 29,
   "metadata": {},
   "outputs": [],
   "source": [
    "def detect_grid(filename=None):\n",
    "\tif filename is None:\n",
    "\t\timage = load_image_from_clipboard()\n",
    "\t\tif image is None:\n",
    "\t\t\treturn None\n",
    "\telse:\n",
    "\t\timage = cv2.imread(filename)\n",
    "\tgray = cv2.cvtColor(image, cv2.COLOR_BGR2GRAY)\n",
    "\tblurred = cv2.GaussianBlur(gray, (5, 5), 0)\n",
    "\tedges = cv2.Canny(blurred, 50, 150)\n",
    "\n",
    "\tcontours, _ = cv2.findContours(edges, cv2.RETR_EXTERNAL, cv2.CHAIN_APPROX_SIMPLE)\n",
    "\n",
    "\tcontours = sorted(contours, key=cv2.contourArea, reverse=True)\n",
    "\n",
    "\n",
    "\tgrid_contour = contours[0]\n",
    "\tx, y, w, h = cv2.boundingRect(grid_contour)\n",
    "\n",
    "\tgrid = image[y:y+h, x:x+w]\n",
    "\treturn grid"
   ]
  },
  {
   "cell_type": "code",
   "execution_count": 30,
   "metadata": {},
   "outputs": [],
   "source": [
    "def is_duplicate(square1, square2, tolerance=10):\n",
    "\tx1, y1, w1, h1 = square1\n",
    "\tx2, y2, w2, h2 = square2\n",
    "\n",
    "\treturn (\n",
    "\t\tabs(x1 - x2) <= tolerance and\n",
    "\t\tabs(y1 - y2) <= tolerance and\n",
    "\t\tabs(w1 - w2) <= tolerance and\n",
    "\t\tabs(h1 - h2) <= tolerance\n",
    "\t)"
   ]
  },
  {
   "cell_type": "code",
   "execution_count": 31,
   "metadata": {},
   "outputs": [],
   "source": [
    "def align_squares(squares, tolerance=10):\n",
    "\tx_coords = [x for x, _, _, _ in squares]\n",
    "\ty_coords = [y for _, y, _, _ in squares]\n",
    "\n",
    "\tunique_x = np.unique([np.median([x for x in x_coords if abs(x - ref_x) <= tolerance]) for ref_x in x_coords])\n",
    "\tunique_y = np.unique([np.median([y for y in y_coords if abs(y - ref_y) <= tolerance]) for ref_y in y_coords])\n",
    "\n",
    "\taligned_squares = []\n",
    "\tfor x, y, w, h in squares:\n",
    "\t\t# Snap x and y to the nearest unique value\n",
    "\t\tclosest_x = min(unique_x, key=lambda ref_x: abs(x - ref_x))\n",
    "\t\tclosest_y = min(unique_y, key=lambda ref_y: abs(y - ref_y))\n",
    "\t\taligned_squares.append((int(closest_x), int(closest_y), w, h))\n",
    "\n",
    "\treturn aligned_squares"
   ]
  },
  {
   "cell_type": "code",
   "execution_count": 38,
   "metadata": {},
   "outputs": [],
   "source": [
    "def extract_cells(grid):\n",
    "\tgray = cv2.cvtColor(grid, cv2.COLOR_BGR2GRAY)\n",
    "\tblurred = cv2.GaussianBlur(gray, (5, 5), 0)\n",
    "\t_, binary = cv2.threshold(blurred, 150, 255, cv2.THRESH_BINARY_INV)\n",
    "\tcontours, _ = cv2.findContours(binary, cv2.RETR_TREE, cv2.CHAIN_APPROX_SIMPLE)\n",
    "\n",
    "\t# find all squares in the image\n",
    "\tsquares = []\n",
    "\tfor contour in contours:\n",
    "\t\tepsilon = 0.05 * cv2.arcLength(contour, True)\n",
    "\t\tapprox = cv2.approxPolyDP(contour, epsilon, True)\n",
    "\n",
    "\t\tif len(approx) == 4 and cv2.contourArea(approx) > 100:\n",
    "\t\t\tx, y, w, h = cv2.boundingRect(approx)\n",
    "\t\t\taspect_ratio = float(w) / h\n",
    "\t\t\tif 0.9 <= aspect_ratio <= 1.1:  # Square aspect ratio\n",
    "\t\t\t\tsquares.append((x, y, w, h))\n",
    "\n",
    "\tprint(f\"Found {len(squares)} squares\")\n",
    "\t# Filter squares based on area\n",
    "\tif len(squares) > 0:\n",
    "\t\tareas = [w * h for _, _, w, h in squares]\n",
    "\t\tmedian_area = np.median(areas)\n",
    "\n",
    "\t\tarea_tolerance = 0.2\n",
    "\t\tfiltered_squares = [\n",
    "\t\t\t(x, y, w, h)\n",
    "\t\t\tfor (x, y, w, h) in squares\n",
    "\t\t\tif abs(w * h - median_area) / median_area <= area_tolerance\n",
    "\t\t]\n",
    "\t\tsquares = filtered_squares\n",
    "\n",
    "\tprint(f\"Filtered to {len(squares)} squares\")\n",
    "\t# Filter squares based on similarity\n",
    "\tfiltered_squares = []\n",
    "\tfor square in squares:\n",
    "\t\tduplicate_found = False\n",
    "\t\tfor filtered_square in filtered_squares:\n",
    "\t\t\tif is_duplicate(square, filtered_square):\n",
    "\t\t\t\tduplicate_found = True\n",
    "\t\t\t\tbreak\n",
    "\t\tif not duplicate_found:\n",
    "\t\t\tfiltered_squares.append(square)\n",
    "\n",
    "\tprint(f\"Filtered to {len(filtered_squares)} squares\")\n",
    "\tsquares = filtered_squares\n",
    "\tsquares = align_squares(squares)\n",
    "\treturn squares\n"
   ]
  },
  {
   "cell_type": "code",
   "execution_count": 39,
   "metadata": {},
   "outputs": [],
   "source": [
    "def extract_colors(grid, squares):\n",
    "\tsquares = sorted(squares, key=lambda sq: (sq[1], sq[0]))\n",
    "\tcolor_map = defaultdict(list)\n",
    "\tcolors_detected = []\n",
    "\n",
    "\tfor square_idx, (x, y, w, h) in enumerate(squares):\n",
    "\t\tmargin = 0.4\n",
    "\t\tx_center_start = int(x + margin * w)\n",
    "\t\tx_center_end = int(x + (1 - margin) * w)\n",
    "\t\ty_center_start = int(y + margin * h)\n",
    "\t\ty_center_end = int(y + (1 - margin) * h)\n",
    "\n",
    "\t\tcenter_region = grid[y_center_start:y_center_end, x_center_start:x_center_end]\n",
    "\n",
    "\t\tavg_color = cv2.mean(center_region)[:3]\n",
    "\t\tmatched = False\n",
    "\t\tfor idx, ref_color in enumerate(colors_detected):\n",
    "\t\t\tif np.linalg.norm(np.array(avg_color) - np.array(ref_color)) < 10:\n",
    "\t\t\t\tcolor_map[idx].append((square_idx, (x, y, w, h)))\n",
    "\t\t\t\tmatched = True\n",
    "\t\t\t\tbreak\n",
    "\t\tif not matched:\n",
    "\t\t\tcolors_detected.append(avg_color)\n",
    "\t\t\tcolor_map[len(colors_detected) - 1].append((square_idx, (x, y, w, h)))\n",
    "\treturn color_map, colors_detected"
   ]
  },
  {
   "cell_type": "code",
   "execution_count": 40,
   "metadata": {},
   "outputs": [],
   "source": [
    "# grid_image = grid.copy()\n",
    "# for (x, y, w, h) in cells:\n",
    "# \tcv2.rectangle(grid_image, (x, y), (x+w, y+h), (0, 255, 0), 2)\n",
    "# cv2.imwrite('grid_with_cells.png', grid_image)"
   ]
  },
  {
   "cell_type": "code",
   "execution_count": 41,
   "metadata": {},
   "outputs": [
    {
     "name": "stdout",
     "output_type": "stream",
     "text": [
      "Found 61 squares\n",
      "Filtered to 60 squares\n",
      "Filtered to 60 squares\n",
      "Detected 60 cells\n"
     ]
    },
    {
     "ename": "AssertionError",
     "evalue": "",
     "output_type": "error",
     "traceback": [
      "\u001b[0;31m---------------------------------------------------------------------------\u001b[0m",
      "\u001b[0;31mAssertionError\u001b[0m                            Traceback (most recent call last)",
      "Cell \u001b[0;32mIn[41], line 8\u001b[0m\n\u001b[1;32m      5\u001b[0m cells \u001b[38;5;241m=\u001b[39m extract_cells(grid_image)\n\u001b[1;32m      7\u001b[0m \u001b[38;5;28mprint\u001b[39m(\u001b[38;5;124mf\u001b[39m\u001b[38;5;124m\"\u001b[39m\u001b[38;5;124mDetected \u001b[39m\u001b[38;5;132;01m{\u001b[39;00m\u001b[38;5;28mlen\u001b[39m(cells)\u001b[38;5;132;01m}\u001b[39;00m\u001b[38;5;124m cells\u001b[39m\u001b[38;5;124m\"\u001b[39m)\n\u001b[0;32m----> 8\u001b[0m \u001b[38;5;28;01massert\u001b[39;00m \u001b[38;5;28mlen\u001b[39m(cells) \u001b[38;5;241m==\u001b[39m \u001b[38;5;28mint\u001b[39m(np\u001b[38;5;241m.\u001b[39msqrt(\u001b[38;5;28mlen\u001b[39m(cells))) \u001b[38;5;241m*\u001b[39m\u001b[38;5;241m*\u001b[39m \u001b[38;5;241m2\u001b[39m\n\u001b[1;32m     10\u001b[0m n \u001b[38;5;241m=\u001b[39m \u001b[38;5;28mint\u001b[39m(np\u001b[38;5;241m.\u001b[39msqrt(\u001b[38;5;28mlen\u001b[39m(cells)))\n\u001b[1;32m     11\u001b[0m \u001b[38;5;28mprint\u001b[39m(\u001b[38;5;124mf\u001b[39m\u001b[38;5;124m\"\u001b[39m\u001b[38;5;124mDetected \u001b[39m\u001b[38;5;132;01m{\u001b[39;00mn\u001b[38;5;132;01m}\u001b[39;00m\u001b[38;5;124mx\u001b[39m\u001b[38;5;132;01m{\u001b[39;00mn\u001b[38;5;132;01m}\u001b[39;00m\u001b[38;5;124m grid\u001b[39m\u001b[38;5;124m\"\u001b[39m)\n",
      "\u001b[0;31mAssertionError\u001b[0m: "
     ]
    }
   ],
   "source": [
    "filename = 'board4.png'\n",
    "grid_image = detect_grid(filename)\n",
    "cv2.imwrite('extracted_grid.png', grid_image)\n",
    "\n",
    "cells = extract_cells(grid_image)\n",
    "\n",
    "print(f\"Detected {len(cells)} cells\")\n",
    "assert len(cells) == int(np.sqrt(len(cells))) ** 2\n",
    "\n",
    "n = int(np.sqrt(len(cells)))\n",
    "print(f\"Detected {n}x{n} grid\")\n",
    "\n",
    "color_map, colors_detected = extract_colors(grid_image, cells)\n",
    "print(f\"Detected {len(color_map)} colors\")\n",
    "\n",
    "print(colors_detected)\n",
    "\n",
    "assert len(color_map) == n\n",
    "\n",
    "# grid_image_with_colors = grid_image.copy()\n",
    "# color_labels = ['Color ' + str(i + 1) for i in range(len(color_map))]\n",
    "# for idx, squares_group in color_map.items():\n",
    "# \tfor square_idx, (x, y, w, h) in squares_group:\n",
    "# \t\tcv2.rectangle(grid_image_with_colors, (x, y), (x+w, y+h), (0, 255, 0), 2)\n",
    "# \t\tcv2.putText(grid_image_with_colors, f\"{square_idx}, {color_labels[idx]}\", (x+5, y+h//2), cv2.FONT_HERSHEY_SIMPLEX, 0.4, (0, 0, 255), 1)\n",
    "# cv2.imwrite('grid_with_colors.png', grid_image_with_colors)\n",
    "\n",
    "\n",
    "grid = np.zeros((n, n), dtype=int)\n",
    "for idx, squares_group in color_map.items():\n",
    "\tfor square_idx, (x, y, w, h) in squares_group:\n",
    "\t\tgrid[square_idx // n, square_idx % n] = idx\n",
    "\n",
    "solutions = solve(n, grid)\n",
    "plot_solution(grid, solutions[0], colors_detected)"
   ]
  },
  {
   "cell_type": "code",
   "execution_count": 44,
   "metadata": {},
   "outputs": [
    {
     "name": "stdout",
     "output_type": "stream",
     "text": [
      "Found 65 squares\n",
      "Filtered to 64 squares\n",
      "Filtered to 64 squares\n",
      "Detected 64 cells\n",
      "Found 1 valid solutions for 8x8\n"
     ]
    },
    {
     "data": {
      "image/png": "[encoded data removed]",
      "text/plain": [
       "<Figure size 500x500 with 1 Axes>"
      ]
     },
     "metadata": {},
     "output_type": "display_data"
    }
   ],
   "source": [
    "grid_image = detect_grid()\n",
    "assert grid_image is not None\n",
    "cells = extract_cells(grid_image)\n",
    "print(f\"Detected {len(cells)} cells\")\n",
    "assert len(cells) == int(np.sqrt(len(cells))) ** 2\n",
    "n = int(np.sqrt(len(cells)))\n",
    "color_map, colors_detected = extract_colors(grid_image, cells)\n",
    "assert len(color_map) == n\n",
    "\n",
    "grid = np.zeros((n, n), dtype=int)\n",
    "for idx, squares_group in color_map.items():\n",
    "\tfor square_idx, (x, y, w, h) in squares_group:\n",
    "\t\tgrid[square_idx // n, square_idx % n] = idx\n",
    "\n",
    "solutions = solve(n, grid)\n",
    "for solution in solutions:\n",
    "\tplot_solution(grid, solution, colors_detected)\n"
   ]
  },
  {
   "cell_type": "code",
   "execution_count": null,
   "metadata": {},
   "outputs": [],
   "source": []
  }
 ],
 "metadata": {
  "kernelspec": {
   "display_name": "pulse",
   "language": "python",
   "name": "python3"
  },
  "language_info": {
   "codemirror_mode": {
    "name": "ipython",
    "version": 3
   },
   "file_extension": ".py",
   "mimetype": "text/x-python",
   "name": "python",
   "nbconvert_exporter": "python",
   "pygments_lexer": "ipython3",
   "version": "3.8.18"
  }
 },
 "nbformat": 4,
 "nbformat_minor": 2
}
